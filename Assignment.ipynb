{
 "cells": [
  {
   "cell_type": "code",
   "execution_count": 48,
   "metadata": {},
   "outputs": [],
   "source": [
    "import pandas as pd\n",
    "import numpy as np\n",
    "import matplotlib.pyplot as plt\n",
    "from sklearn.cluster import KMeans\n",
    "\n",
    "\n",
    "# plotting packages\n",
    "\n",
    "from mpl_toolkits.mplot3d import Axes3D\n",
    "import matplotlib.pyplot as plt\n",
    "import matplotlib.cm as cm\n",
    "import matplotlib.colors as clrs\n",
    "\n",
    "# Kmeans algorithm from scikit-learn\n",
    "from sklearn.cluster import KMeans\n",
    "from sklearn.metrics import silhouette_samples, silhouette_score"
   ]
  },
  {
   "cell_type": "markdown",
   "metadata": {},
   "source": [
    "# Assignment - Micolucci Sara "
   ]
  },
  {
   "cell_type": "markdown",
   "metadata": {},
   "source": [
    "## 1) Exploratory Data Analysis\n",
    "### 1.1 Load the Data \n",
    "\n",
    "The first step of the procedure is open the file named *Assignment.csv* and then transform it in a DataFrame. The latter is an object of Pandas Library, in particular is a two-dimension tabular data, is useful for representing data in a clear way and makes possible perform all the staitistics related to the data, recover the shape of they and so on..."
   ]
  },
  {
   "cell_type": "code",
   "execution_count": 49,
   "metadata": {},
   "outputs": [
    {
     "name": "stdout",
     "output_type": "stream",
     "text": [
      "Size of the dataset (row, col):  (277, 2)\n",
      "\n",
      "First 5 rows\n",
      "    dossier  performance\n",
      "0        1      2.88099\n",
      "1        2      2.85309\n",
      "2        3      2.96310\n",
      "3        4      2.88473\n",
      "4        5      2.86781\n"
     ]
    }
   ],
   "source": [
    "DF = pd.read_csv('assignment.csv', sep=\";\")\n",
    "\n",
    "# check the raw data\n",
    "print(\"Size of the dataset (row, col): \", DF.shape)\n",
    "print(\"\\nFirst 5 rows\\n\", DF.head(n=5))"
   ]
  },
  {
   "cell_type": "markdown",
   "metadata": {},
   "source": [
    "So i have loaded the first five row of the data. They are composed by a column named **dossier** that represents a particular client's position in the portfolio and a column named **performance** that represents the annual performance of the particular position.\n",
    "\n",
    "So the data set is formed by 277 values per 2 columns of *Numerical data*."
   ]
  },
  {
   "cell_type": "markdown",
   "metadata": {},
   "source": [
    "After loading the data i construct a DataFrame using Pandas."
   ]
  },
  {
   "cell_type": "code",
   "execution_count": 50,
   "metadata": {},
   "outputs": [
    {
     "data": {
      "text/html": [
       "<div>\n",
       "<style scoped>\n",
       "    .dataframe tbody tr th:only-of-type {\n",
       "        vertical-align: middle;\n",
       "    }\n",
       "\n",
       "    .dataframe tbody tr th {\n",
       "        vertical-align: top;\n",
       "    }\n",
       "\n",
       "    .dataframe thead th {\n",
       "        text-align: right;\n",
       "    }\n",
       "</style>\n",
       "<table border=\"1\" class=\"dataframe\">\n",
       "  <thead>\n",
       "    <tr style=\"text-align: right;\">\n",
       "      <th></th>\n",
       "      <th>dossier</th>\n",
       "      <th>performance</th>\n",
       "    </tr>\n",
       "  </thead>\n",
       "  <tbody>\n",
       "    <tr>\n",
       "      <th>0</th>\n",
       "      <td>1</td>\n",
       "      <td>2.88099</td>\n",
       "    </tr>\n",
       "    <tr>\n",
       "      <th>1</th>\n",
       "      <td>2</td>\n",
       "      <td>2.85309</td>\n",
       "    </tr>\n",
       "    <tr>\n",
       "      <th>2</th>\n",
       "      <td>3</td>\n",
       "      <td>2.96310</td>\n",
       "    </tr>\n",
       "    <tr>\n",
       "      <th>3</th>\n",
       "      <td>4</td>\n",
       "      <td>2.88473</td>\n",
       "    </tr>\n",
       "    <tr>\n",
       "      <th>4</th>\n",
       "      <td>5</td>\n",
       "      <td>2.86781</td>\n",
       "    </tr>\n",
       "    <tr>\n",
       "      <th>...</th>\n",
       "      <td>...</td>\n",
       "      <td>...</td>\n",
       "    </tr>\n",
       "    <tr>\n",
       "      <th>272</th>\n",
       "      <td>273</td>\n",
       "      <td>-0.68131</td>\n",
       "    </tr>\n",
       "    <tr>\n",
       "      <th>273</th>\n",
       "      <td>274</td>\n",
       "      <td>-0.68131</td>\n",
       "    </tr>\n",
       "    <tr>\n",
       "      <th>274</th>\n",
       "      <td>275</td>\n",
       "      <td>-0.33327</td>\n",
       "    </tr>\n",
       "    <tr>\n",
       "      <th>275</th>\n",
       "      <td>276</td>\n",
       "      <td>-0.03177</td>\n",
       "    </tr>\n",
       "    <tr>\n",
       "      <th>276</th>\n",
       "      <td>277</td>\n",
       "      <td>-0.60485</td>\n",
       "    </tr>\n",
       "  </tbody>\n",
       "</table>\n",
       "<p>277 rows × 2 columns</p>\n",
       "</div>"
      ],
      "text/plain": [
       "     dossier  performance\n",
       "0          1      2.88099\n",
       "1          2      2.85309\n",
       "2          3      2.96310\n",
       "3          4      2.88473\n",
       "4          5      2.86781\n",
       "..       ...          ...\n",
       "272      273     -0.68131\n",
       "273      274     -0.68131\n",
       "274      275     -0.33327\n",
       "275      276     -0.03177\n",
       "276      277     -0.60485\n",
       "\n",
       "[277 rows x 2 columns]"
      ]
     },
     "execution_count": 50,
     "metadata": {},
     "output_type": "execute_result"
    }
   ],
   "source": [
    "DF = pd.DataFrame(DF, columns = ['dossier','performance'] )\n",
    "DF"
   ]
  },
  {
   "cell_type": "markdown",
   "metadata": {},
   "source": [
    "### 1.2 Compute the statistics and plot the distribution of the data"
   ]
  },
  {
   "cell_type": "markdown",
   "metadata": {},
   "source": [
    "In this section are reported all the statistics and the distribution plot relative to the data.   "
   ]
  },
  {
   "cell_type": "code",
   "execution_count": 51,
   "metadata": {},
   "outputs": [
    {
     "name": "stdout",
     "output_type": "stream",
     "text": [
      "\n",
      "Summary statistics\n",
      "          dossier  performance\n",
      "count  277.00000   277.000000\n",
      "mean   139.00000     0.326055\n",
      "std     80.10722     2.015121\n",
      "min      1.00000    -2.972140\n",
      "25%     70.00000    -1.356210\n",
      "50%    139.00000    -0.367600\n",
      "75%    208.00000     2.818950\n",
      "max    277.00000     5.235730\n"
     ]
    }
   ],
   "source": [
    "print(\"\\nSummary statistics\\n\", DF.describe())"
   ]
  },
  {
   "cell_type": "markdown",
   "metadata": {},
   "source": [
    "Then there is a plot of the frequency distribution of the portfolio's performance positions."
   ]
  },
  {
   "cell_type": "code",
   "execution_count": 52,
   "metadata": {},
   "outputs": [
    {
     "data": {
      "text/plain": [
       "<matplotlib.lines.Line2D at 0x7fe0b611dfd0>"
      ]
     },
     "execution_count": 52,
     "metadata": {},
     "output_type": "execute_result"
    },
    {
     "data": {
      "image/png": "[encoded data removed]",
      "text/plain": [
       "<Figure size 432x288 with 1 Axes>"
      ]
     },
     "metadata": {
      "needs_background": "light"
     },
     "output_type": "display_data"
    }
   ],
   "source": [
    "DF['performance'].plot(kind = 'hist', title = 'performance', alpha = 0.5)\n",
    "plt.axvline(0.326055, color='k', linestyle='dashed', linewidth=1)"
   ]
  },
  {
   "cell_type": "markdown",
   "metadata": {},
   "source": [
    "From the plot is possible to see that the *performance* feature has a bimodale distrbution, since the plot shows two pick of frequency , one for the positive performance of the positions and another for the negative performance. \n"
   ]
  },
  {
   "cell_type": "markdown",
   "metadata": {},
   "source": [
    "### 1.3 Data standardization"
   ]
  },
  {
   "cell_type": "markdown",
   "metadata": {},
   "source": [
    "The *standardization* of the data used to perform the analysis is an important step before starting the clusterization process. \n",
    "The objective of this procedure is obtain variable expressed in the *same scale* and avoid that higher value of the fature will dominate the process. "
   ]
  },
  {
   "cell_type": "markdown",
   "metadata": {},
   "source": [
    "I have used the *z-score normalization* where each standardized value is computed by subtracting the mean of the corresponding feature and then dividing by the standard deviation."
   ]
  },
  {
   "cell_type": "code",
   "execution_count": 53,
   "metadata": {},
   "outputs": [
    {
     "data": {
      "text/html": [
       "<div>\n",
       "<style scoped>\n",
       "    .dataframe tbody tr th:only-of-type {\n",
       "        vertical-align: middle;\n",
       "    }\n",
       "\n",
       "    .dataframe tbody tr th {\n",
       "        vertical-align: top;\n",
       "    }\n",
       "\n",
       "    .dataframe thead th {\n",
       "        text-align: right;\n",
       "    }\n",
       "</style>\n",
       "<table border=\"1\" class=\"dataframe\">\n",
       "  <thead>\n",
       "    <tr style=\"text-align: right;\">\n",
       "      <th></th>\n",
       "      <th>dossier</th>\n",
       "      <th>performance</th>\n",
       "    </tr>\n",
       "  </thead>\n",
       "  <tbody>\n",
       "    <tr>\n",
       "      <th>0</th>\n",
       "      <td>1</td>\n",
       "      <td>1.267882</td>\n",
       "    </tr>\n",
       "    <tr>\n",
       "      <th>1</th>\n",
       "      <td>2</td>\n",
       "      <td>1.254036</td>\n",
       "    </tr>\n",
       "    <tr>\n",
       "      <th>2</th>\n",
       "      <td>3</td>\n",
       "      <td>1.308629</td>\n",
       "    </tr>\n",
       "    <tr>\n",
       "      <th>3</th>\n",
       "      <td>4</td>\n",
       "      <td>1.269738</td>\n",
       "    </tr>\n",
       "    <tr>\n",
       "      <th>4</th>\n",
       "      <td>5</td>\n",
       "      <td>1.261341</td>\n",
       "    </tr>\n",
       "    <tr>\n",
       "      <th>...</th>\n",
       "      <td>...</td>\n",
       "      <td>...</td>\n",
       "    </tr>\n",
       "    <tr>\n",
       "      <th>272</th>\n",
       "      <td>273</td>\n",
       "      <td>-0.499903</td>\n",
       "    </tr>\n",
       "    <tr>\n",
       "      <th>273</th>\n",
       "      <td>274</td>\n",
       "      <td>-0.499903</td>\n",
       "    </tr>\n",
       "    <tr>\n",
       "      <th>274</th>\n",
       "      <td>275</td>\n",
       "      <td>-0.327188</td>\n",
       "    </tr>\n",
       "    <tr>\n",
       "      <th>275</th>\n",
       "      <td>276</td>\n",
       "      <td>-0.177570</td>\n",
       "    </tr>\n",
       "    <tr>\n",
       "      <th>276</th>\n",
       "      <td>277</td>\n",
       "      <td>-0.461960</td>\n",
       "    </tr>\n",
       "  </tbody>\n",
       "</table>\n",
       "<p>277 rows × 2 columns</p>\n",
       "</div>"
      ],
      "text/plain": [
       "     dossier  performance\n",
       "0          1     1.267882\n",
       "1          2     1.254036\n",
       "2          3     1.308629\n",
       "3          4     1.269738\n",
       "4          5     1.261341\n",
       "..       ...          ...\n",
       "272      273    -0.499903\n",
       "273      274    -0.499903\n",
       "274      275    -0.327188\n",
       "275      276    -0.177570\n",
       "276      277    -0.461960\n",
       "\n",
       "[277 rows x 2 columns]"
      ]
     },
     "execution_count": 53,
     "metadata": {},
     "output_type": "execute_result"
    }
   ],
   "source": [
    "PSD = ( DF['performance'] - DF['performance'].mean()) / DF['performance'].std()\n",
    "DF['performance'] = PSD\n",
    "DF"
   ]
  },
  {
   "cell_type": "markdown",
   "metadata": {},
   "source": [
    "I have performed the standardization also of the indexation column in order to obtain the whole data set of the same size and hence construct a scatter plot with variables expressed in the same way."
   ]
  },
  {
   "cell_type": "markdown",
   "metadata": {},
   "source": [
    "## 2)  K-means clustering method"
   ]
  },
  {
   "cell_type": "markdown",
   "metadata": {},
   "source": [
    "The K-means clustering is an *Unsupervised Learning* method used to classify data, it works taking as input only knows outcomes. \n",
    "The aggragation is maid looking at sort of similarities that the pattern shows, so data are grouped into **Clusters** that are simply set of data with common characteristcs.\n",
    "\n",
    "The first thing to do is to infer a number of **K** possible **Centroids** that could represents our distribution of Feature, then implement the algorithm Kmeans of Scikit-learn. \n",
    "This algorithm works by performing iterative calculations in order to optimize the position of the Centroids in the cluster. In particular every data point is allocated to each of the clusters through reducing the in-cluster sum of squares so it allocates every data point to the nearest cluster, while keeping the centroids as small as possible."
   ]
  },
  {
   "cell_type": "markdown",
   "metadata": {},
   "source": [
    "### 2.1 Scatter plot and definition of k"
   ]
  },
  {
   "cell_type": "code",
   "execution_count": 55,
   "metadata": {},
   "outputs": [
    {
     "data": {
      "image/png": "[encoded data removed]",
      "text/plain": [
       "<Figure size 432x288 with 1 Axes>"
      ]
     },
     "metadata": {
      "needs_background": "light"
     },
     "output_type": "display_data"
    }
   ],
   "source": [
    "plt.scatter(DF.iloc[:,0], DF.iloc[:,1], s=20, c='b')\n",
    "plt.grid()"
   ]
  },
  {
   "cell_type": "markdown",
   "metadata": {},
   "source": [
    "The scatter plot is obtained plotting on the X-axis the progressive number that identify the positions in the portfolio and on the Y-axis the respective portfolio performance. \n",
    "From the plot above we can infer the presence of **K = 2** number of clusters, since the data seems form two blobs."
   ]
  },
  {
   "cell_type": "markdown",
   "metadata": {},
   "source": [
    "So after fixing a number **K = 2** is possible to initialize the Scikit-learn algorithm and fit our data set."
   ]
  },
  {
   "cell_type": "code",
   "execution_count": 56,
   "metadata": {},
   "outputs": [
    {
     "data": {
      "text/plain": [
       "KMeans(n_clusters=2)"
      ]
     },
     "execution_count": 56,
     "metadata": {},
     "output_type": "execute_result"
    }
   ],
   "source": [
    "from sklearn.cluster import KMeans\n",
    "Kmean = KMeans(n_clusters=2)\n",
    "Kmean.fit(DF)"
   ]
  },
  {
   "cell_type": "markdown",
   "metadata": {},
   "source": [
    "Using the *cluster_centers* attribute of Kmeans i found the values of the cluster centers."
   ]
  },
  {
   "cell_type": "code",
   "execution_count": 57,
   "metadata": {
    "scrolled": true
   },
   "outputs": [
    {
     "data": {
      "text/plain": [
       "array([[ 69.5       ,   0.70458111],\n",
       "       [208.        ,  -0.69951218]])"
      ]
     },
     "execution_count": 57,
     "metadata": {},
     "output_type": "execute_result"
    }
   ],
   "source": [
    "Kmean.cluster_centers_"
   ]
  },
  {
   "cell_type": "markdown",
   "metadata": {},
   "source": [
    "### 2.2 Plot of Clusters and Centroids"
   ]
  },
  {
   "cell_type": "markdown",
   "metadata": {},
   "source": [
    "I construct a scatter plot that shows the two Clusters and the corresponding Centroids. The figure is obtained plotting on the X-axis the progressive number of portfolio positions against the related performance, on the Y-axis. Then the points highlighted in *red* and *green* represents the two cluster's centers."
   ]
  },
  {
   "cell_type": "code",
   "execution_count": 58,
   "metadata": {},
   "outputs": [
    {
     "data": {
      "image/png": "[encoded data removed]",
      "text/plain": [
       "<Figure size 432x288 with 1 Axes>"
      ]
     },
     "metadata": {
      "needs_background": "light"
     },
     "output_type": "display_data"
    }
   ],
   "source": [
    "plt.scatter(DF.iloc[:,0], DF.iloc[:,1], s=20, c='b')\n",
    "plt.scatter(208.,  -0.69951218, s = 100, c='r', marker='s')\n",
    "plt.scatter(69.5,   0.70458111, s = 100, c='g', marker='s')\n",
    "plt.grid()"
   ]
  },
  {
   "cell_type": "markdown",
   "metadata": {},
   "source": [
    "I construct a scatter plot that shows the two Clusters and the corresponding Centroids. The figure is obtained plotting on the X-axis the progressive number of portfolio positions against the related performance, on the Y-axis. Then the points highlighted in *red* and *green* represents the two cluster's centers."
   ]
  },
  {
   "cell_type": "markdown",
   "metadata": {},
   "source": [
    "Using the labels attribute of Kmeans i have highlited what are the clusters that characterize the data set and there is evidence of a binary clusterization. So the effective number of clusters is 2."
   ]
  },
  {
   "cell_type": "code",
   "execution_count": 59,
   "metadata": {},
   "outputs": [
    {
     "data": {
      "text/plain": [
       "array([0, 0, 0, 0, 0, 0, 0, 0, 0, 0, 0, 0, 0, 0, 0, 0, 0, 0, 0, 0, 0, 0,\n",
       "       0, 0, 0, 0, 0, 0, 0, 0, 0, 0, 0, 0, 0, 0, 0, 0, 0, 0, 0, 0, 0, 0,\n",
       "       0, 0, 0, 0, 0, 0, 0, 0, 0, 0, 0, 0, 0, 0, 0, 0, 0, 0, 0, 0, 0, 0,\n",
       "       0, 0, 0, 0, 0, 0, 0, 0, 0, 0, 0, 0, 0, 0, 0, 0, 0, 0, 0, 0, 0, 0,\n",
       "       0, 0, 0, 0, 0, 0, 0, 0, 0, 0, 0, 0, 0, 0, 0, 0, 0, 0, 0, 0, 0, 0,\n",
       "       0, 0, 0, 0, 0, 0, 0, 0, 0, 0, 0, 0, 0, 0, 0, 0, 0, 0, 0, 0, 0, 0,\n",
       "       0, 0, 0, 0, 0, 0, 1, 1, 1, 1, 1, 1, 1, 1, 1, 1, 1, 1, 1, 1, 1, 1,\n",
       "       1, 1, 1, 1, 1, 1, 1, 1, 1, 1, 1, 1, 1, 1, 1, 1, 1, 1, 1, 1, 1, 1,\n",
       "       1, 1, 1, 1, 1, 1, 1, 1, 1, 1, 1, 1, 1, 1, 1, 1, 1, 1, 1, 1, 1, 1,\n",
       "       1, 1, 1, 1, 1, 1, 1, 1, 1, 1, 1, 1, 1, 1, 1, 1, 1, 1, 1, 1, 1, 1,\n",
       "       1, 1, 1, 1, 1, 1, 1, 1, 1, 1, 1, 1, 1, 1, 1, 1, 1, 1, 1, 1, 1, 1,\n",
       "       1, 1, 1, 1, 1, 1, 1, 1, 1, 1, 1, 1, 1, 1, 1, 1, 1, 1, 1, 1, 1, 1,\n",
       "       1, 1, 1, 1, 1, 1, 1, 1, 1, 1, 1, 1, 1], dtype=int32)"
      ]
     },
     "execution_count": 59,
     "metadata": {},
     "output_type": "execute_result"
    }
   ],
   "source": [
    "Kmean.labels_"
   ]
  },
  {
   "cell_type": "markdown",
   "metadata": {},
   "source": [
    "Using the labels attribute of Kmeans i have highlited what are the clusters that characterize the data set and there is evidence of a binary clusterization. \n",
    "So the effective number of clusters is 2."
   ]
  },
  {
   "cell_type": "markdown",
   "metadata": {},
   "source": [
    "### 2.3 Extraction of the individual clusters and analysis of the distrubution"
   ]
  },
  {
   "cell_type": "markdown",
   "metadata": {},
   "source": [
    "In order to extract the individual clusters i started by attaching an axtra-column on the data set, named *'labels'*. This column represents the cluster to which the value of the performance belonging to."
   ]
  },
  {
   "cell_type": "code",
   "execution_count": 60,
   "metadata": {},
   "outputs": [
    {
     "data": {
      "text/html": [
       "<div>\n",
       "<style scoped>\n",
       "    .dataframe tbody tr th:only-of-type {\n",
       "        vertical-align: middle;\n",
       "    }\n",
       "\n",
       "    .dataframe tbody tr th {\n",
       "        vertical-align: top;\n",
       "    }\n",
       "\n",
       "    .dataframe thead th {\n",
       "        text-align: right;\n",
       "    }\n",
       "</style>\n",
       "<table border=\"1\" class=\"dataframe\">\n",
       "  <thead>\n",
       "    <tr style=\"text-align: right;\">\n",
       "      <th></th>\n",
       "      <th>dossier</th>\n",
       "      <th>performance</th>\n",
       "      <th>labels</th>\n",
       "    </tr>\n",
       "  </thead>\n",
       "  <tbody>\n",
       "    <tr>\n",
       "      <th>0</th>\n",
       "      <td>1</td>\n",
       "      <td>1.267882</td>\n",
       "      <td>0</td>\n",
       "    </tr>\n",
       "    <tr>\n",
       "      <th>1</th>\n",
       "      <td>2</td>\n",
       "      <td>1.254036</td>\n",
       "      <td>0</td>\n",
       "    </tr>\n",
       "    <tr>\n",
       "      <th>2</th>\n",
       "      <td>3</td>\n",
       "      <td>1.308629</td>\n",
       "      <td>0</td>\n",
       "    </tr>\n",
       "    <tr>\n",
       "      <th>3</th>\n",
       "      <td>4</td>\n",
       "      <td>1.269738</td>\n",
       "      <td>0</td>\n",
       "    </tr>\n",
       "    <tr>\n",
       "      <th>4</th>\n",
       "      <td>5</td>\n",
       "      <td>1.261341</td>\n",
       "      <td>0</td>\n",
       "    </tr>\n",
       "    <tr>\n",
       "      <th>...</th>\n",
       "      <td>...</td>\n",
       "      <td>...</td>\n",
       "      <td>...</td>\n",
       "    </tr>\n",
       "    <tr>\n",
       "      <th>272</th>\n",
       "      <td>273</td>\n",
       "      <td>-0.499903</td>\n",
       "      <td>1</td>\n",
       "    </tr>\n",
       "    <tr>\n",
       "      <th>273</th>\n",
       "      <td>274</td>\n",
       "      <td>-0.499903</td>\n",
       "      <td>1</td>\n",
       "    </tr>\n",
       "    <tr>\n",
       "      <th>274</th>\n",
       "      <td>275</td>\n",
       "      <td>-0.327188</td>\n",
       "      <td>1</td>\n",
       "    </tr>\n",
       "    <tr>\n",
       "      <th>275</th>\n",
       "      <td>276</td>\n",
       "      <td>-0.177570</td>\n",
       "      <td>1</td>\n",
       "    </tr>\n",
       "    <tr>\n",
       "      <th>276</th>\n",
       "      <td>277</td>\n",
       "      <td>-0.461960</td>\n",
       "      <td>1</td>\n",
       "    </tr>\n",
       "  </tbody>\n",
       "</table>\n",
       "<p>277 rows × 3 columns</p>\n",
       "</div>"
      ],
      "text/plain": [
       "     dossier  performance  labels\n",
       "0          1     1.267882       0\n",
       "1          2     1.254036       0\n",
       "2          3     1.308629       0\n",
       "3          4     1.269738       0\n",
       "4          5     1.261341       0\n",
       "..       ...          ...     ...\n",
       "272      273    -0.499903       1\n",
       "273      274    -0.499903       1\n",
       "274      275    -0.327188       1\n",
       "275      276    -0.177570       1\n",
       "276      277    -0.461960       1\n",
       "\n",
       "[277 rows x 3 columns]"
      ]
     },
     "execution_count": 60,
     "metadata": {},
     "output_type": "execute_result"
    }
   ],
   "source": [
    "DF['labels'] = Kmean.labels_\n",
    "DF"
   ]
  },
  {
   "cell_type": "markdown",
   "metadata": {},
   "source": [
    "Then i construct the Cluster_0 data set by selecting the performance values that corresponds to the zero-label , so the result is a DataFrame that contains only the performance values characterizing the zero-label cluster."
   ]
  },
  {
   "cell_type": "code",
   "execution_count": 61,
   "metadata": {},
   "outputs": [
    {
     "data": {
      "text/html": [
       "<div>\n",
       "<style scoped>\n",
       "    .dataframe tbody tr th:only-of-type {\n",
       "        vertical-align: middle;\n",
       "    }\n",
       "\n",
       "    .dataframe tbody tr th {\n",
       "        vertical-align: top;\n",
       "    }\n",
       "\n",
       "    .dataframe thead th {\n",
       "        text-align: right;\n",
       "    }\n",
       "</style>\n",
       "<table border=\"1\" class=\"dataframe\">\n",
       "  <thead>\n",
       "    <tr style=\"text-align: right;\">\n",
       "      <th></th>\n",
       "      <th>dossier</th>\n",
       "      <th>performance</th>\n",
       "      <th>labels</th>\n",
       "    </tr>\n",
       "  </thead>\n",
       "  <tbody>\n",
       "    <tr>\n",
       "      <th>0</th>\n",
       "      <td>1</td>\n",
       "      <td>1.267882</td>\n",
       "      <td>0</td>\n",
       "    </tr>\n",
       "    <tr>\n",
       "      <th>1</th>\n",
       "      <td>2</td>\n",
       "      <td>1.254036</td>\n",
       "      <td>0</td>\n",
       "    </tr>\n",
       "    <tr>\n",
       "      <th>2</th>\n",
       "      <td>3</td>\n",
       "      <td>1.308629</td>\n",
       "      <td>0</td>\n",
       "    </tr>\n",
       "    <tr>\n",
       "      <th>3</th>\n",
       "      <td>4</td>\n",
       "      <td>1.269738</td>\n",
       "      <td>0</td>\n",
       "    </tr>\n",
       "    <tr>\n",
       "      <th>4</th>\n",
       "      <td>5</td>\n",
       "      <td>1.261341</td>\n",
       "      <td>0</td>\n",
       "    </tr>\n",
       "    <tr>\n",
       "      <th>...</th>\n",
       "      <td>...</td>\n",
       "      <td>...</td>\n",
       "      <td>...</td>\n",
       "    </tr>\n",
       "    <tr>\n",
       "      <th>133</th>\n",
       "      <td>134</td>\n",
       "      <td>-1.459582</td>\n",
       "      <td>0</td>\n",
       "    </tr>\n",
       "    <tr>\n",
       "      <th>134</th>\n",
       "      <td>135</td>\n",
       "      <td>-1.396692</td>\n",
       "      <td>0</td>\n",
       "    </tr>\n",
       "    <tr>\n",
       "      <th>135</th>\n",
       "      <td>136</td>\n",
       "      <td>-0.836756</td>\n",
       "      <td>0</td>\n",
       "    </tr>\n",
       "    <tr>\n",
       "      <th>136</th>\n",
       "      <td>137</td>\n",
       "      <td>-0.641353</td>\n",
       "      <td>0</td>\n",
       "    </tr>\n",
       "    <tr>\n",
       "      <th>137</th>\n",
       "      <td>138</td>\n",
       "      <td>-1.417808</td>\n",
       "      <td>0</td>\n",
       "    </tr>\n",
       "  </tbody>\n",
       "</table>\n",
       "<p>138 rows × 3 columns</p>\n",
       "</div>"
      ],
      "text/plain": [
       "     dossier  performance  labels\n",
       "0          1     1.267882       0\n",
       "1          2     1.254036       0\n",
       "2          3     1.308629       0\n",
       "3          4     1.269738       0\n",
       "4          5     1.261341       0\n",
       "..       ...          ...     ...\n",
       "133      134    -1.459582       0\n",
       "134      135    -1.396692       0\n",
       "135      136    -0.836756       0\n",
       "136      137    -0.641353       0\n",
       "137      138    -1.417808       0\n",
       "\n",
       "[138 rows x 3 columns]"
      ]
     },
     "execution_count": 61,
     "metadata": {},
     "output_type": "execute_result"
    }
   ],
   "source": [
    "cluster_0 = DF['labels']==0\n",
    "cl_0 = DF[cluster_0==True]\n",
    "cl_0"
   ]
  },
  {
   "cell_type": "markdown",
   "metadata": {},
   "source": [
    "I do the same job for the label equal to 1."
   ]
  },
  {
   "cell_type": "code",
   "execution_count": 62,
   "metadata": {},
   "outputs": [
    {
     "data": {
      "text/html": [
       "<div>\n",
       "<style scoped>\n",
       "    .dataframe tbody tr th:only-of-type {\n",
       "        vertical-align: middle;\n",
       "    }\n",
       "\n",
       "    .dataframe tbody tr th {\n",
       "        vertical-align: top;\n",
       "    }\n",
       "\n",
       "    .dataframe thead th {\n",
       "        text-align: right;\n",
       "    }\n",
       "</style>\n",
       "<table border=\"1\" class=\"dataframe\">\n",
       "  <thead>\n",
       "    <tr style=\"text-align: right;\">\n",
       "      <th></th>\n",
       "      <th>dossier</th>\n",
       "      <th>performance</th>\n",
       "      <th>labels</th>\n",
       "    </tr>\n",
       "  </thead>\n",
       "  <tbody>\n",
       "    <tr>\n",
       "      <th>138</th>\n",
       "      <td>139</td>\n",
       "      <td>-0.613052</td>\n",
       "      <td>1</td>\n",
       "    </tr>\n",
       "    <tr>\n",
       "      <th>139</th>\n",
       "      <td>140</td>\n",
       "      <td>-0.676095</td>\n",
       "      <td>1</td>\n",
       "    </tr>\n",
       "    <tr>\n",
       "      <th>140</th>\n",
       "      <td>141</td>\n",
       "      <td>-0.597753</td>\n",
       "      <td>1</td>\n",
       "    </tr>\n",
       "    <tr>\n",
       "      <th>141</th>\n",
       "      <td>142</td>\n",
       "      <td>-1.164701</td>\n",
       "      <td>1</td>\n",
       "    </tr>\n",
       "    <tr>\n",
       "      <th>142</th>\n",
       "      <td>143</td>\n",
       "      <td>-0.646216</td>\n",
       "      <td>1</td>\n",
       "    </tr>\n",
       "    <tr>\n",
       "      <th>...</th>\n",
       "      <td>...</td>\n",
       "      <td>...</td>\n",
       "      <td>...</td>\n",
       "    </tr>\n",
       "    <tr>\n",
       "      <th>272</th>\n",
       "      <td>273</td>\n",
       "      <td>-0.499903</td>\n",
       "      <td>1</td>\n",
       "    </tr>\n",
       "    <tr>\n",
       "      <th>273</th>\n",
       "      <td>274</td>\n",
       "      <td>-0.499903</td>\n",
       "      <td>1</td>\n",
       "    </tr>\n",
       "    <tr>\n",
       "      <th>274</th>\n",
       "      <td>275</td>\n",
       "      <td>-0.327188</td>\n",
       "      <td>1</td>\n",
       "    </tr>\n",
       "    <tr>\n",
       "      <th>275</th>\n",
       "      <td>276</td>\n",
       "      <td>-0.177570</td>\n",
       "      <td>1</td>\n",
       "    </tr>\n",
       "    <tr>\n",
       "      <th>276</th>\n",
       "      <td>277</td>\n",
       "      <td>-0.461960</td>\n",
       "      <td>1</td>\n",
       "    </tr>\n",
       "  </tbody>\n",
       "</table>\n",
       "<p>139 rows × 3 columns</p>\n",
       "</div>"
      ],
      "text/plain": [
       "     dossier  performance  labels\n",
       "138      139    -0.613052       1\n",
       "139      140    -0.676095       1\n",
       "140      141    -0.597753       1\n",
       "141      142    -1.164701       1\n",
       "142      143    -0.646216       1\n",
       "..       ...          ...     ...\n",
       "272      273    -0.499903       1\n",
       "273      274    -0.499903       1\n",
       "274      275    -0.327188       1\n",
       "275      276    -0.177570       1\n",
       "276      277    -0.461960       1\n",
       "\n",
       "[139 rows x 3 columns]"
      ]
     },
     "execution_count": 62,
     "metadata": {},
     "output_type": "execute_result"
    }
   ],
   "source": [
    "cluster_1 = DF['labels'] == 1\n",
    "cl_1 = DF[cluster_1] \n",
    "cl_1"
   ]
  },
  {
   "cell_type": "markdown",
   "metadata": {},
   "source": [
    "After had identify the two cluster data set i have plotted a scatter plot that shows the two and the relative centroids. In addiction the two clusters were highlighetd following a colour rule according to the *labels*. "
   ]
  },
  {
   "cell_type": "code",
   "execution_count": 63,
   "metadata": {},
   "outputs": [
    {
     "data": {
      "image/png": "[encoded data removed]",
      "text/plain": [
       "<Figure size 432x288 with 1 Axes>"
      ]
     },
     "metadata": {
      "needs_background": "light"
     },
     "output_type": "display_data"
    }
   ],
   "source": [
    "plt.scatter(DF.iloc[:, 0], DF.iloc[:, 1], c=DF['labels'], s=20, cmap='viridis')\n",
    "centers = Kmean.cluster_centers_\n",
    "plt.scatter(centers[:, 0], centers[:, 1], c='g', s=200, alpha=0.5);\n",
    "plt.grid()"
   ]
  },
  {
   "cell_type": "markdown",
   "metadata": {},
   "source": [
    "I have also recovered what are all the statistics of the clusters."
   ]
  },
  {
   "cell_type": "code",
   "execution_count": 64,
   "metadata": {},
   "outputs": [
    {
     "name": "stdout",
     "output_type": "stream",
     "text": [
      "\n",
      "Summary statistics cl_0 \n",
      "           dossier  performance  labels\n",
      "count  138.000000   138.000000   138.0\n",
      "mean    69.500000     0.704581     0.0\n",
      "std     39.981246     0.946462     0.0\n",
      "min      1.000000    -1.636722     0.0\n",
      "25%     35.250000     0.312620     0.0\n",
      "50%     69.500000     1.243975     0.0\n",
      "75%    103.750000     1.269797     0.0\n",
      "max    138.000000     2.436417     0.0\n",
      "\n",
      "Summary statistics cl_1\n",
      "           dossier  performance  labels\n",
      "count  139.000000   139.000000   139.0\n",
      "mean   208.000000    -0.699512     1.0\n",
      "std     40.269923     0.348431     0.0\n",
      "min    139.000000    -1.523419     1.0\n",
      "25%    173.500000    -0.941571     1.0\n",
      "50%    208.000000    -0.722266     1.0\n",
      "75%    242.500000    -0.403698     1.0\n",
      "max    277.000000    -0.032814     1.0\n"
     ]
    }
   ],
   "source": [
    "print(\"\\nSummary statistics cl_0 \\n\", cl_0.describe())\n",
    "print(\"\\nSummary statistics cl_1\\n\", cl_1.describe())\n"
   ]
  },
  {
   "cell_type": "markdown",
   "metadata": {},
   "source": [
    "From the statistics is it possible to see that the clusters have:\n",
    "  * **mean values =  208.000000  ,  -0.699512**   \n",
    "  * **mean values = 69.500000   ,  0.7045819**\n",
    "\n",
    "values that corresponds to the centroids found with the Kmeans method. "
   ]
  },
  {
   "cell_type": "code",
   "execution_count": 65,
   "metadata": {},
   "outputs": [
    {
     "data": {
      "text/plain": [
       "<AxesSubplot:title={'center':'performance'}, ylabel='Frequency'>"
      ]
     },
     "execution_count": 65,
     "metadata": {},
     "output_type": "execute_result"
    },
    {
     "data": {
      "image/png": "[encoded data removed]",
      "text/plain": [
       "<Figure size 432x288 with 1 Axes>"
      ]
     },
     "metadata": {
      "needs_background": "light"
     },
     "output_type": "display_data"
    }
   ],
   "source": [
    "cl_0['performance'].plot(kind = 'hist', title = 'performance', alpha = 0.8, color='indigo')"
   ]
  },
  {
   "cell_type": "code",
   "execution_count": 66,
   "metadata": {},
   "outputs": [
    {
     "data": {
      "text/plain": [
       "<AxesSubplot:title={'center':'performance'}, ylabel='Frequency'>"
      ]
     },
     "execution_count": 66,
     "metadata": {},
     "output_type": "execute_result"
    },
    {
     "data": {
      "image/png": "[encoded data removed]",
      "text/plain": [
       "<Figure size 432x288 with 1 Axes>"
      ]
     },
     "metadata": {
      "needs_background": "light"
     },
     "output_type": "display_data"
    }
   ],
   "source": [
    "cl_1['performance'].plot(kind = 'hist', title = 'performance', alpha = 0.8, color='yellow')"
   ]
  },
  {
   "cell_type": "markdown",
   "metadata": {},
   "source": [
    "Finally in the previous code are plotted the frequency distribution of portfolio's positions. \n",
    "Also in this case differentiate colours underline the two clusters distribution. \n",
    "\n",
    "In the contest of portoflio management, could happen that the sample presents some clusters. The explanation of this fact could be that if the investors shows the same behaviour and are free to open and close the position whenever they think is a good strategy. So this explain the presence of clusters in the performance distribution."
   ]
  },
  {
   "cell_type": "markdown",
   "metadata": {},
   "source": [
    "## 3) Elbow method"
   ]
  },
  {
   "cell_type": "markdown",
   "metadata": {},
   "source": [
    "The elbow method is a popular approach for determining the number of clusters. The k-means algorithm is carried out for a range of values of k (e.g., all values between 1 and 10). \n",
    "The inertia is then plotted against the number of clusters, the latter measures the performance of the algorithm as the within-cluster sum of squares. For any given value of k, the objective of the k-means algorithm should be to minimize the inertia."
   ]
  },
  {
   "cell_type": "code",
   "execution_count": 67,
   "metadata": {},
   "outputs": [
    {
     "data": {
      "image/png": "[encoded data removed]",
      "text/plain": [
       "<Figure size 432x288 with 1 Axes>"
      ]
     },
     "metadata": {
      "needs_background": "light"
     },
     "output_type": "display_data"
    }
   ],
   "source": [
    "Ks = range(1, 10)\n",
    "inertia = [KMeans(i).fit(DF).inertia_ for i in Ks] #9 different k model X is our data if i increase the number of cluster the inertia diminuits\n",
    "\n",
    "fig = plt.figure() #plot the number of cluster wrt the inertia\n",
    "plt.plot(Ks, inertia, '-bo')\n",
    "plt.plot(2,442923.9769297391, color='red', marker = 'o')\n",
    "plt.xlabel('Number of clusters')\n",
    "plt.ylabel('Inertia (within-cluster sum of squares)')\n",
    "plt.show()"
   ]
  },
  {
   "cell_type": "markdown",
   "metadata": {},
   "source": [
    "The inertia is then plotted against the number of clusters. The slope of the line in this chart indicates how the within-cluster sum of squares declines as the number of clusters increases."
   ]
  },
  {
   "cell_type": "markdown",
   "metadata": {},
   "source": [
    "In addition to the within-cluster sum of squares, we are likely to be interested in how distinct the clusters are. If two clusters are very close together we might reasonably conclude that not much is gained by\n",
    "keeping them separate."
   ]
  },
  {
   "cell_type": "markdown",
   "metadata": {},
   "source": [
    "In this case, the decline is large when we move from one to two, very small from two to three, and three to four\n",
    "clusters and so on. After two clusters, the decline is much smaller. We conclude that the **optimal number of clusters is 2** (the point highlighted in red) ."
   ]
  },
  {
   "cell_type": "markdown",
   "metadata": {},
   "source": [
    "### Elbow method suggest a number of cluster , k = 2"
   ]
  },
  {
   "cell_type": "code",
   "execution_count": 68,
   "metadata": {},
   "outputs": [
    {
     "name": "stdout",
     "output_type": "stream",
     "text": [
      "inertia for k=2 is 442923.9769297391\n",
      "cluster centers:  [[ 2.08000000e+02 -6.99512181e-01  1.00000000e+00]\n",
      " [ 6.95000000e+01  7.04581110e-01  5.55111512e-16]]\n",
      "cluster labels:  [1 1 1 1 1 1 1 1 1 1 1 1 1 1 1 1 1 1 1 1 1 1 1 1 1 1 1 1 1 1 1 1 1 1 1 1 1\n",
      " 1 1 1 1 1 1 1 1 1 1 1 1 1 1 1 1 1 1 1 1 1 1 1 1 1 1 1 1 1 1 1 1 1 1 1 1 1\n",
      " 1 1 1 1 1 1 1 1 1 1 1 1 1 1 1 1 1 1 1 1 1 1 1 1 1 1 1 1 1 1 1 1 1 1 1 1 1\n",
      " 1 1 1 1 1 1 1 1 1 1 1 1 1 1 1 1 1 1 1 1 1 1 1 1 1 1 1 0 0 0 0 0 0 0 0 0 0\n",
      " 0 0 0 0 0 0 0 0 0 0 0 0 0 0 0 0 0 0 0 0 0 0 0 0 0 0 0 0 0 0 0 0 0 0 0 0 0\n",
      " 0 0 0 0 0 0 0 0 0 0 0 0 0 0 0 0 0 0 0 0 0 0 0 0 0 0 0 0 0 0 0 0 0 0 0 0 0\n",
      " 0 0 0 0 0 0 0 0 0 0 0 0 0 0 0 0 0 0 0 0 0 0 0 0 0 0 0 0 0 0 0 0 0 0 0 0 0\n",
      " 0 0 0 0 0 0 0 0 0 0 0 0 0 0 0 0 0 0]\n"
     ]
    }
   ],
   "source": [
    "k = 2\n",
    "kmeans = KMeans(n_clusters=k, random_state=0)\n",
    "kmeans.fit(DF)\n",
    "\n",
    "# print inertia & cluster center\n",
    "print(\"inertia for k=2 is\", kmeans.inertia_)\n",
    "print(\"cluster centers: \", kmeans.cluster_centers_)\n",
    "\n",
    "# take a quick look at the result\n",
    "y = kmeans.labels_\n",
    "print(\"cluster labels: \", y)"
   ]
  },
  {
   "cell_type": "markdown",
   "metadata": {},
   "source": [
    "So performing the Elbow method we have found that the best performance of the algorithm, so the value of the **Inertia = 442923.97** is obtained with a number of cluster equal to **2**. The relative Centroids are:\n",
    "* **(208., -0.69951218)** \n",
    "* **(69.5, 0.70458111 )**."
   ]
  },
  {
   "cell_type": "markdown",
   "metadata": {},
   "source": [
    "### List of the results"
   ]
  },
  {
   "cell_type": "code",
   "execution_count": 69,
   "metadata": {},
   "outputs": [
    {
     "name": "stdout",
     "output_type": "stream",
     "text": [
      "      Perform  Label\n",
      "138 -0.613052      0\n",
      "175 -0.400182      0\n",
      "176 -1.251267      0\n",
      "177 -1.064380      0\n",
      "178 -0.428299      0\n",
      "179 -1.020283      0\n",
      "180 -1.042083      0\n",
      "181 -1.159069      0\n",
      "182 -0.788555      0\n",
      "183 -1.057666      0\n",
      "184 -0.032814      0\n",
      "185 -0.111608      0\n",
      "186 -0.402936      0\n",
      "187 -0.389631      0\n",
      "188 -0.529876      0\n",
      "174 -0.958193      0\n",
      "189 -0.404459      0\n",
      "191 -0.914528      0\n",
      "192 -0.898534      0\n",
      "193 -0.350165      0\n",
      "194 -0.708744      0\n",
      "195 -0.248925      0\n",
      "196 -0.728871      0\n",
      "197 -0.137602      0\n",
      "198 -0.219652      0\n",
      "199 -0.137647      0\n",
      "200 -0.140584      0\n",
      "201 -0.728559      0\n",
      "202 -0.620610      0\n",
      "203 -0.195559      0\n",
      "204 -0.657690      0\n",
      "190 -0.916354      0\n",
      "173 -1.224896      0\n",
      "172 -0.879642      0\n",
      "171 -0.860471      0\n",
      "140 -0.597753      0\n",
      "141 -1.164701      0\n",
      "142 -0.646216      0\n",
      "143 -0.806266      0\n",
      "144 -0.834597      0\n",
      "145 -0.688507      0\n",
      "146 -0.716297      0\n",
      "147 -0.857489      0\n",
      "148 -1.089148      0\n",
      "149 -1.229844      0\n",
      "150 -0.782402      0\n",
      "151 -1.228936      0\n",
      "152 -1.203230      0\n",
      "153 -1.092328      0\n",
      "154 -0.911888      0\n",
      "155 -0.947737      0\n",
      "156 -1.034223      0\n",
      "170 -0.376709      0\n",
      "169 -0.398341      0\n",
      "168 -0.398311      0\n",
      "167 -0.903908      0\n",
      "166 -0.763098      0\n",
      "165 -0.588389      0\n",
      "205 -0.708858      0\n",
      "164 -0.876083      0\n",
      "162 -0.493744      0\n",
      "161 -1.265455      0\n",
      "160 -0.343912      0\n",
      "159 -0.531275      0\n",
      "158 -0.563934      0\n",
      "157 -1.281121      0\n",
      "163 -0.875160      0\n",
      "206 -0.063482      0\n",
      "207 -0.137850      0\n",
      "208 -0.159109      0\n",
      "244 -0.679435      0\n",
      "245 -1.294257      0\n",
      "246 -1.523419      0\n",
      "247 -1.340021      0\n",
      "248 -1.460167      0\n",
      "249 -0.787925      0\n",
      "250 -1.140847      0\n",
      "251 -0.838567      0\n",
      "252 -0.337759      0\n",
      "253 -0.834820      0\n",
      "254 -1.058544      0\n",
      "255 -0.682413      0\n",
      "256 -0.186859      0\n",
      "257 -0.497014      0\n",
      "258 -0.526283      0\n",
      "259 -0.686472      0\n",
      "260 -0.297989      0\n",
      "274 -0.327188      0\n",
      "273 -0.499903      0\n",
      "272 -0.499903      0\n",
      "271 -0.906176      0\n",
      "270 -0.415665      0\n",
      "269 -0.050649      0\n",
      "243 -1.410036      0\n",
      "268 -0.153636      0\n",
      "266 -1.059487      0\n",
      "265 -1.059591      0\n",
      "264 -0.820787      0\n",
      "263 -0.497555      0\n",
      "262 -0.211548      0\n",
      "261 -0.758170      0\n",
      "267 -0.577213      0\n",
      "139 -0.676095      0\n",
      "242 -0.935405      0\n",
      "240 -0.898668      0\n",
      "209 -0.798232      0\n",
      "210 -0.745540      0\n",
      "211 -0.802698      0\n",
      "212 -0.681460      0\n",
      "213 -0.220247      0\n",
      "214 -0.722266      0\n",
      "215 -0.263103      0\n",
      "216 -0.723477      0\n",
      "217 -0.541319      0\n",
      "218 -0.993238      0\n",
      "219 -1.072220      0\n",
      "220 -1.057795      0\n",
      "221 -0.769182      0\n",
      "222 -1.003441      0\n",
      "223 -1.067819      0\n",
      "224 -0.349902      0\n",
      "225 -0.364318      0\n",
      "239 -0.671768      0\n",
      "238 -0.241164      0\n",
      "237 -1.061879      0\n",
      "236 -0.375285      0\n",
      "235 -0.849951      0\n",
      "234 -0.851837      0\n",
      "241 -0.763366      0\n",
      "233 -0.410077      0\n",
      "231 -0.375454      0\n",
      "230 -1.194645      0\n",
      "229 -0.952605      0\n",
      "228 -0.543880      0\n",
      "227 -0.102383      0\n",
      "226 -0.749897      0\n",
      "232 -0.558068      0\n",
      "275 -0.177570      0\n",
      "276 -0.461960      0\n",
      "136 -0.641353      1\n",
      "36   1.255098      1\n",
      "37   1.301890      1\n",
      "38   1.262929      1\n",
      "39   1.267291      1\n",
      "40   0.936175      1\n",
      "41  -0.591664      1\n",
      "42   1.268150      1\n",
      "43   0.552024      1\n",
      "44   1.264651      1\n",
      "45   1.267733      1\n",
      "46   1.270720      1\n",
      "47   1.264641      1\n",
      "48   0.947712      1\n",
      "49   1.260894      1\n",
      "35   1.267614      1\n",
      "50   1.718529      1\n",
      "52   1.270120      1\n",
      "53   1.129354      1\n",
      "54   1.597827      1\n",
      "55   1.127974      1\n",
      "56   1.723839      1\n",
      "57   1.014507      1\n",
      "58   1.321323      1\n",
      "59   0.979388      1\n",
      "60   1.268452      1\n",
      "61   1.267112      1\n",
      "62   1.265013      1\n",
      "63   1.267167      1\n",
      "64   1.281270      1\n",
      "65   1.269896      1\n",
      "51   0.441728      1\n",
      "34   1.250855      1\n",
      "33   1.270780      1\n",
      "32   1.271782      1\n",
      "1    1.254036      1\n",
      "2    1.308629      1\n",
      "3    1.269738      1\n",
      "4    1.261341      1\n",
      "5    1.727879      1\n",
      "6    1.270646      1\n",
      "7    1.056718      1\n",
      "8    1.369062      1\n",
      "9    1.521747      1\n",
      "10   1.028010      1\n",
      "11   1.542912      1\n",
      "12   1.266557      1\n",
      "13   1.268571      1\n",
      "14   1.266919      1\n",
      "15   1.237094      1\n",
      "16   1.264770      1\n",
      "17   1.254324      1\n",
      "31   1.151551      1\n",
      "30   1.628168      1\n",
      "29   1.264969      1\n",
      "28   1.263058      1\n",
      "27   1.271752      1\n",
      "26  -0.105455      1\n",
      "66   1.262348      1\n",
      "25   1.267073      1\n",
      "23   0.974981      1\n",
      "22   1.264765      1\n",
      "21   0.985884      1\n",
      "20   1.270214      1\n",
      "19   1.681177      1\n",
      "18   1.271301      1\n",
      "24   0.447609      1\n",
      "67   1.033474      1\n",
      "68   1.262785      1\n",
      "69   1.271082      1\n",
      "105 -0.897154      1\n",
      "106  0.570762      1\n",
      "107  0.955513      1\n",
      "108  0.176459      1\n",
      "109  0.481845      1\n",
      "110  0.240643      1\n",
      "111  0.930329      1\n",
      "112 -0.100224      1\n",
      "113  0.184895      1\n",
      "114  0.008151      1\n",
      "115 -0.344225      1\n",
      "116 -0.261624      1\n",
      "117 -0.690735      1\n",
      "118 -1.413833      1\n",
      "119 -1.128604      1\n",
      "120 -1.125681      1\n",
      "121 -1.258482      1\n",
      "135 -0.836756      1\n",
      "134 -1.396692      1\n",
      "133 -1.459582      1\n",
      "132 -1.374098      1\n",
      "131 -1.521275      1\n",
      "130 -1.410116      1\n",
      "104  0.291469      1\n",
      "129 -0.686283      1\n",
      "127 -0.718138      1\n",
      "126 -1.636722      1\n",
      "125 -0.906176      1\n",
      "124 -0.966644      1\n",
      "123 -1.404746      1\n",
      "122 -1.414567      1\n",
      "128 -1.012308      1\n",
      "137 -1.417808      1\n",
      "103  0.807904      1\n",
      "101  0.907283      1\n",
      "70   0.852909      1\n",
      "71   1.722390      1\n",
      "72   1.270283      1\n",
      "73   1.267465      1\n",
      "74   1.260483      1\n",
      "75   1.264299      1\n",
      "76   1.719686      1\n",
      "77   0.957176      1\n",
      "78   1.261951      1\n",
      "79   1.268557      1\n",
      "80   1.370397      1\n",
      "81   1.270462      1\n",
      "82   1.269817      1\n",
      "83   0.521028      1\n",
      "84   0.816033      1\n",
      "85   1.403998      1\n",
      "86   1.402668      1\n",
      "100  0.475666      1\n",
      "99   0.937177      1\n",
      "98   0.845297      1\n",
      "97  -0.097316      1\n",
      "96   0.976262      1\n",
      "95   0.376074      1\n",
      "102  0.522175      1\n",
      "94   2.436417      1\n",
      "92   1.561819      1\n",
      "91  -0.052644      1\n",
      "90   1.094999      1\n",
      "89   0.805880      1\n",
      "88  -0.185847      1\n",
      "87   2.198203      1\n",
      "93   1.470659      1\n",
      "0    1.267882      1\n"
     ]
    }
   ],
   "source": [
    "result = pd.DataFrame({#'dossier':DF['dossier'], \n",
    "                       'Perform': DF['performance'], 'Label':y})\n",
    "with pd.option_context('display.max_rows', None, 'display.max_columns', 3 ):\n",
    "    print(result.sort_values('Label'))"
   ]
  },
  {
   "cell_type": "markdown",
   "metadata": {},
   "source": [
    "## 4) Silhouette Analysis"
   ]
  },
  {
   "cell_type": "markdown",
   "metadata": {},
   "source": [
    "Another way of choosing the number of clusters is the silhouette method. Again, the k-means algorithm is carried out for a range of values of k. For each value of k, is calculated for each observation, i, the average distance between the observation and the other observations in the cluster to which it belongs, defined (ai), and the average distance between the observation and the observations in that cluster, (bi).\n",
    "The silhouette of an observation measures the extent to which b(i) is greater than a(i)."
   ]
  },
  {
   "cell_type": "markdown",
   "metadata": {},
   "source": [
    "The silhouette, s(i), lies between −1 and +1. (As already indicated, for observations that have been allocated correctly it is likely to be positive.) As it becomes closer to +1, the observation more clearly belongs\n",
    "to the group to which it has been assigned. "
   ]
  },
  {
   "cell_type": "markdown",
   "metadata": {},
   "source": [
    "The average of s(i) over all observations in all clusters is an overall measure of the appropriateness of the clustering and is\n",
    "referred to as **the average silhouette score**."
   ]
  },
  {
   "cell_type": "code",
   "execution_count": 70,
   "metadata": {},
   "outputs": [
    {
     "name": "stdout",
     "output_type": "stream",
     "text": [
      "For n_clusters= 2 The average silhouette_score is : 0.6239673851913099\n",
      "For n_clusters= 3 The average silhouette_score is : 0.5852844748579087\n",
      "For n_clusters= 4 The average silhouette_score is : 0.5654459768956089\n",
      "For n_clusters= 5 The average silhouette_score is : 0.5525919480382384\n",
      "For n_clusters= 6 The average silhouette_score is : 0.5436210321850538\n",
      "For n_clusters= 7 The average silhouette_score is : 0.5367854167184312\n",
      "For n_clusters= 8 The average silhouette_score is : 0.5304399383615608\n",
      "For n_clusters= 9 The average silhouette_score is : 0.5251254713767451\n",
      "For n_clusters= 10 The average silhouette_score is : 0.5203520100232777\n"
     ]
    }
   ],
   "source": [
    "# Silhouette Analysis\n",
    "range_n_clusters = [2,3,4,5,6,7,8,9,10]\n",
    "silhouette       = [] \n",
    "for n_clusters in range_n_clusters:\n",
    "    clusterer=KMeans(n_clusters=n_clusters, random_state=0)\n",
    "    cluster_labels=clusterer.fit_predict(DF)\n",
    "    silhouette_avg=silhouette_score(DF,cluster_labels)\n",
    "    silhouette.append(silhouette_avg)\n",
    "    print(\"For n_clusters=\", n_clusters,\n",
    "          \"The average silhouette_score is :\", silhouette_avg)"
   ]
  },
  {
   "cell_type": "markdown",
   "metadata": {},
   "source": [
    "So the best choice of k is the one that allow the higher average silhouette score. In this case **K = 2**."
   ]
  },
  {
   "cell_type": "code",
   "execution_count": 71,
   "metadata": {},
   "outputs": [
    {
     "name": "stdout",
     "output_type": "stream",
     "text": [
      " the number of cluster start inertia decrease is 2\n"
     ]
    },
    {
     "data": {
      "image/png": "[encoded data removed]",
      "text/plain": [
       "<Figure size 432x288 with 1 Axes>"
      ]
     },
     "metadata": {
      "needs_background": "light"
     },
     "output_type": "display_data"
    }
   ],
   "source": [
    "plt.plot(range_n_clusters, silhouette)\n",
    "print(' the number of cluster start inertia decrease is 2')"
   ]
  },
  {
   "cell_type": "markdown",
   "metadata": {},
   "source": [
    "From this plot is possible to figure out that the best number of cluster is 2, since the silhoutte score starts to decrease very fast after it."
   ]
  }
 ],
 "metadata": {
  "kernelspec": {
   "display_name": "Python 3",
   "language": "python",
   "name": "python3"
  },
  "language_info": {
   "codemirror_mode": {
    "name": "ipython",
    "version": 3
   },
   "file_extension": ".py",
   "mimetype": "text/x-python",
   "name": "python",
   "nbconvert_exporter": "python",
   "pygments_lexer": "ipython3",
   "version": "3.8.5"
  }
 },
 "nbformat": 4,
 "nbformat_minor": 4
}
